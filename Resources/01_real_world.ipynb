{
 "cells": [
  {
   "cell_type": "markdown",
   "metadata": {},
   "source": [
    "## 1 Real World Applications\n",
    "\n",
    "Before we dive into what Deep Learning is - let's review some applications of Deep Learning in our everyday life:\n",
    "\n",
    "1. __Self Driving Cars:__\n",
    "Vehicles like Teslas have networked cameras and various other sensors fitted around the car which provide vast amount of data that is fed to an AI model that learns to identify all sourounding objects and predict what the best next action for the vehicle is. The AI model simulates human perception and the descision making process using Deep Learning under the hood. \n",
    "\n",
    "<br>\n",
    "\n",
    "2. __Netflix Recommendation Engine:__\n",
    "A major contribution to Netflix's business model is its recommendation engine that enables customer rentention. Netflix gathers a vast amount of data of their user base including viewer ratings, viewing histories, wathing preferences etc - all of these data points are fed into machine learning models to generate models that can provide you a personalised recommendation based on your own preferences.  \n",
    "\n",
    "<br>\n",
    "\n",
    "3. __Face Recognition:__\n",
    "A multitude of applications are able to identify and tag people in pictures and videos. A task which is very easily performed by humans, even if faces change or are abstructed with accessories. However, until recently this has remained a challenging computer vision problem for many decades. These days, models are able to leverage Deep Learning and utilise big datasets of faces to learn similarities and develop face recognition capabiilties that even outperform humans. \n",
    "\n",
    "All of the above examples fall under the field of Artificial Intelligene which is essentially the theory and development of computer systems that perform tasks that would normally require human intelligence. Machine Learning is the application of AI based around the idea that computer systems should not be explicitely programmed but learn by experience and acquire skils without human intervention. \n",
    "\n",
    "<center><div> <img src=\"graphics/venn_diagram.png\" alt=\"Drawing\" style=\"width: 450px;\"/></div> </center>\n",
    "\n",
    "Deep Learning is a subfield of machine learning that uses __Artificial Neural Networks (ANN)__ at its backbone. ANNs are often described as mimicing the human brain through a set of algorthims. \n",
    "A major difference between machine learning models and ANNs is that the former lacks the mechanism to identify errors and requires human intervention to tune the model for more accurate decision. Whereas ANNs can identify the inaccurate decision and self-correct. \n",
    "\n",
    "At a very high level, a neural network comprises of __Input, Hidden and Output Layers__ that are made up of interconnected Nodes which resemble the way that biological neurons in the human brain signal to another.\n",
    "\n",
    "<center><div> <img src=\"graphics/deep_neural_network.png\" alt=\"Drawing\" style=\"width: 800px;\"/></div></center> \n",
    "Deep Learning and ANNs are often referred to interchangeably in conversation. The 'deep' in Deep Learning simply refers to the depth of the hidden layers and it is generally accepted that a neural network with more than three layers is considered a deep learning model."
   ]
  }
 ],
 "metadata": {
  "language_info": {
   "name": "python"
  },
  "orig_nbformat": 4
 },
 "nbformat": 4,
 "nbformat_minor": 2
}
