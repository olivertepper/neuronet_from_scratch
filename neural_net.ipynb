{
 "cells": [
  {
   "cell_type": "code",
   "execution_count": 261,
   "metadata": {},
   "outputs": [],
   "source": [
    "import numpy as np\n",
    "import pandas as pd\n",
    "import matplotlib.pyplot as plt\n",
    "%matplotlib inline"
   ]
  },
  {
   "cell_type": "code",
   "execution_count": 262,
   "metadata": {},
   "outputs": [],
   "source": [
    "df = pd.read_excel(\"Input/Real_Estate_Data.xlsx\")"
   ]
  },
  {
   "cell_type": "code",
   "execution_count": 263,
   "metadata": {},
   "outputs": [
    {
     "data": {
      "text/html": [
       "<div>\n",
       "<style scoped>\n",
       "    .dataframe tbody tr th:only-of-type {\n",
       "        vertical-align: middle;\n",
       "    }\n",
       "\n",
       "    .dataframe tbody tr th {\n",
       "        vertical-align: top;\n",
       "    }\n",
       "\n",
       "    .dataframe thead th {\n",
       "        text-align: right;\n",
       "    }\n",
       "</style>\n",
       "<table border=\"1\" class=\"dataframe\">\n",
       "  <thead>\n",
       "    <tr style=\"text-align: right;\">\n",
       "      <th></th>\n",
       "      <th>Sr. No.</th>\n",
       "      <th>Location</th>\n",
       "      <th>Sub-Area</th>\n",
       "      <th>Propert Type</th>\n",
       "      <th>Property Area in Sq. Ft.</th>\n",
       "      <th>Price in lakhs</th>\n",
       "      <th>Price in Millions</th>\n",
       "      <th>Company Name</th>\n",
       "      <th>TownShip Name/ Society Name</th>\n",
       "      <th>Total TownShip Area in Acres</th>\n",
       "      <th>ClubHouse</th>\n",
       "      <th>School / University in Township</th>\n",
       "      <th>Hospital in TownShip</th>\n",
       "      <th>Mall in TownShip</th>\n",
       "      <th>Park / Jogging track</th>\n",
       "      <th>Swimming Pool</th>\n",
       "      <th>Gym</th>\n",
       "    </tr>\n",
       "  </thead>\n",
       "  <tbody>\n",
       "    <tr>\n",
       "      <th>0</th>\n",
       "      <td>1</td>\n",
       "      <td>Pune, Maharashtra, India</td>\n",
       "      <td>Bavdhan</td>\n",
       "      <td>1 BHK</td>\n",
       "      <td>492.0</td>\n",
       "      <td>39</td>\n",
       "      <td>3.9</td>\n",
       "      <td>Shapoorji Paloonji</td>\n",
       "      <td>Vanaha</td>\n",
       "      <td>1000.0</td>\n",
       "      <td>Yes</td>\n",
       "      <td>Yes</td>\n",
       "      <td>Yes</td>\n",
       "      <td>Yes</td>\n",
       "      <td>Yes</td>\n",
       "      <td>Yes</td>\n",
       "      <td>Yes</td>\n",
       "    </tr>\n",
       "    <tr>\n",
       "      <th>1</th>\n",
       "      <td>2</td>\n",
       "      <td>Pune, Maharashtra, India</td>\n",
       "      <td>Bavdhan</td>\n",
       "      <td>2 BHK</td>\n",
       "      <td>774.0</td>\n",
       "      <td>65</td>\n",
       "      <td>6.5</td>\n",
       "      <td>Shapoorji Paloonji</td>\n",
       "      <td>Vanaha</td>\n",
       "      <td>1000.0</td>\n",
       "      <td>Yes</td>\n",
       "      <td>Yes</td>\n",
       "      <td>Yes</td>\n",
       "      <td>Yes</td>\n",
       "      <td>Yes</td>\n",
       "      <td>Yes</td>\n",
       "      <td>Yes</td>\n",
       "    </tr>\n",
       "    <tr>\n",
       "      <th>2</th>\n",
       "      <td>3</td>\n",
       "      <td>Pune, Maharashtra, India</td>\n",
       "      <td>Bavdhan</td>\n",
       "      <td>3 BHK</td>\n",
       "      <td>889.0</td>\n",
       "      <td>74</td>\n",
       "      <td>7.4</td>\n",
       "      <td>Shapoorji Paloonji</td>\n",
       "      <td>Vanaha</td>\n",
       "      <td>1000.0</td>\n",
       "      <td>Yes</td>\n",
       "      <td>Yes</td>\n",
       "      <td>Yes</td>\n",
       "      <td>Yes</td>\n",
       "      <td>Yes</td>\n",
       "      <td>Yes</td>\n",
       "      <td>Yes</td>\n",
       "    </tr>\n",
       "    <tr>\n",
       "      <th>3</th>\n",
       "      <td>4</td>\n",
       "      <td>Pune, Maharashtra, India</td>\n",
       "      <td>Bavdhan</td>\n",
       "      <td>3 BHK Grand</td>\n",
       "      <td>1018.0</td>\n",
       "      <td>89</td>\n",
       "      <td>8.9</td>\n",
       "      <td>Shapoorji Paloonji</td>\n",
       "      <td>Vanaha</td>\n",
       "      <td>1000.0</td>\n",
       "      <td>Yes</td>\n",
       "      <td>Yes</td>\n",
       "      <td>Yes</td>\n",
       "      <td>Yes</td>\n",
       "      <td>Yes</td>\n",
       "      <td>Yes</td>\n",
       "      <td>Yes</td>\n",
       "    </tr>\n",
       "    <tr>\n",
       "      <th>4</th>\n",
       "      <td>5</td>\n",
       "      <td>Pune, Maharashtra, India</td>\n",
       "      <td>Mahalunge</td>\n",
       "      <td>2BHK</td>\n",
       "      <td>743.0</td>\n",
       "      <td>74</td>\n",
       "      <td>7.4</td>\n",
       "      <td>Godrej Properties</td>\n",
       "      <td>Godrej Hills retreat</td>\n",
       "      <td>100.0</td>\n",
       "      <td>Yes</td>\n",
       "      <td>Yes</td>\n",
       "      <td>Yes</td>\n",
       "      <td>Yes</td>\n",
       "      <td>Yes</td>\n",
       "      <td>Yes</td>\n",
       "      <td>Yes</td>\n",
       "    </tr>\n",
       "  </tbody>\n",
       "</table>\n",
       "</div>"
      ],
      "text/plain": [
       "   Sr. No.                  Location   Sub-Area Propert Type  \\\n",
       "0        1  Pune, Maharashtra, India    Bavdhan        1 BHK   \n",
       "1        2  Pune, Maharashtra, India    Bavdhan        2 BHK   \n",
       "2        3  Pune, Maharashtra, India    Bavdhan        3 BHK   \n",
       "3        4  Pune, Maharashtra, India    Bavdhan  3 BHK Grand   \n",
       "4        5  Pune, Maharashtra, India  Mahalunge         2BHK   \n",
       "\n",
       "   Property Area in Sq. Ft. Price in lakhs  Price in Millions  \\\n",
       "0                     492.0             39                3.9   \n",
       "1                     774.0             65                6.5   \n",
       "2                     889.0             74                7.4   \n",
       "3                    1018.0             89                8.9   \n",
       "4                     743.0             74                7.4   \n",
       "\n",
       "         Company Name TownShip Name/ Society Name  \\\n",
       "0  Shapoorji Paloonji                     Vanaha    \n",
       "1  Shapoorji Paloonji                     Vanaha    \n",
       "2  Shapoorji Paloonji                     Vanaha    \n",
       "3  Shapoorji Paloonji                     Vanaha    \n",
       "4   Godrej Properties        Godrej Hills retreat   \n",
       "\n",
       "   Total TownShip Area in Acres ClubHouse School / University in Township   \\\n",
       "0                        1000.0       Yes                              Yes   \n",
       "1                        1000.0       Yes                              Yes   \n",
       "2                        1000.0       Yes                              Yes   \n",
       "3                        1000.0       Yes                              Yes   \n",
       "4                         100.0       Yes                              Yes   \n",
       "\n",
       "  Hospital in TownShip Mall in TownShip Park / Jogging track Swimming Pool  \\\n",
       "0                  Yes              Yes                  Yes           Yes   \n",
       "1                  Yes              Yes                  Yes           Yes   \n",
       "2                  Yes              Yes                  Yes           Yes   \n",
       "3                  Yes              Yes                  Yes           Yes   \n",
       "4                  Yes              Yes                  Yes           Yes   \n",
       "\n",
       "   Gym  \n",
       "0  Yes  \n",
       "1  Yes  \n",
       "2  Yes  \n",
       "3  Yes  \n",
       "4  Yes  "
      ]
     },
     "execution_count": 263,
     "metadata": {},
     "output_type": "execute_result"
    }
   ],
   "source": [
    "df.head()"
   ]
  },
  {
   "cell_type": "code",
   "execution_count": 264,
   "metadata": {},
   "outputs": [
    {
     "data": {
      "text/html": [
       "<div>\n",
       "<style scoped>\n",
       "    .dataframe tbody tr th:only-of-type {\n",
       "        vertical-align: middle;\n",
       "    }\n",
       "\n",
       "    .dataframe tbody tr th {\n",
       "        vertical-align: top;\n",
       "    }\n",
       "\n",
       "    .dataframe thead th {\n",
       "        text-align: right;\n",
       "    }\n",
       "</style>\n",
       "<table border=\"1\" class=\"dataframe\">\n",
       "  <thead>\n",
       "    <tr style=\"text-align: right;\">\n",
       "      <th></th>\n",
       "      <th>Sr. No.</th>\n",
       "      <th>Property Area in Sq. Ft.</th>\n",
       "      <th>Price in Millions</th>\n",
       "      <th>Total TownShip Area in Acres</th>\n",
       "    </tr>\n",
       "  </thead>\n",
       "  <tbody>\n",
       "    <tr>\n",
       "      <th>count</th>\n",
       "      <td>200.000000</td>\n",
       "      <td>200.000000</td>\n",
       "      <td>199.000000</td>\n",
       "      <td>51.000000</td>\n",
       "    </tr>\n",
       "    <tr>\n",
       "      <th>mean</th>\n",
       "      <td>100.500000</td>\n",
       "      <td>894.060000</td>\n",
       "      <td>9.525829</td>\n",
       "      <td>97.392157</td>\n",
       "    </tr>\n",
       "    <tr>\n",
       "      <th>std</th>\n",
       "      <td>57.879185</td>\n",
       "      <td>380.256831</td>\n",
       "      <td>10.186984</td>\n",
       "      <td>266.710786</td>\n",
       "    </tr>\n",
       "    <tr>\n",
       "      <th>min</th>\n",
       "      <td>1.000000</td>\n",
       "      <td>113.000000</td>\n",
       "      <td>1.319000</td>\n",
       "      <td>2.500000</td>\n",
       "    </tr>\n",
       "    <tr>\n",
       "      <th>25%</th>\n",
       "      <td>50.750000</td>\n",
       "      <td>670.000000</td>\n",
       "      <td>5.150000</td>\n",
       "      <td>5.000000</td>\n",
       "    </tr>\n",
       "    <tr>\n",
       "      <th>50%</th>\n",
       "      <td>100.500000</td>\n",
       "      <td>800.500000</td>\n",
       "      <td>7.000000</td>\n",
       "      <td>25.000000</td>\n",
       "    </tr>\n",
       "    <tr>\n",
       "      <th>75%</th>\n",
       "      <td>150.250000</td>\n",
       "      <td>1041.250000</td>\n",
       "      <td>9.943500</td>\n",
       "      <td>25.000000</td>\n",
       "    </tr>\n",
       "    <tr>\n",
       "      <th>max</th>\n",
       "      <td>200.000000</td>\n",
       "      <td>2447.000000</td>\n",
       "      <td>93.000000</td>\n",
       "      <td>1000.000000</td>\n",
       "    </tr>\n",
       "  </tbody>\n",
       "</table>\n",
       "</div>"
      ],
      "text/plain": [
       "          Sr. No.  Property Area in Sq. Ft.  Price in Millions  \\\n",
       "count  200.000000                200.000000         199.000000   \n",
       "mean   100.500000                894.060000           9.525829   \n",
       "std     57.879185                380.256831          10.186984   \n",
       "min      1.000000                113.000000           1.319000   \n",
       "25%     50.750000                670.000000           5.150000   \n",
       "50%    100.500000                800.500000           7.000000   \n",
       "75%    150.250000               1041.250000           9.943500   \n",
       "max    200.000000               2447.000000          93.000000   \n",
       "\n",
       "       Total TownShip Area in Acres  \n",
       "count                     51.000000  \n",
       "mean                      97.392157  \n",
       "std                      266.710786  \n",
       "min                        2.500000  \n",
       "25%                        5.000000  \n",
       "50%                       25.000000  \n",
       "75%                       25.000000  \n",
       "max                     1000.000000  "
      ]
     },
     "execution_count": 264,
     "metadata": {},
     "output_type": "execute_result"
    }
   ],
   "source": [
    "df.describe()"
   ]
  },
  {
   "cell_type": "code",
   "execution_count": 265,
   "metadata": {},
   "outputs": [
    {
     "data": {
      "text/plain": [
       "Sr. No.                               int64\n",
       "Location                             object\n",
       "Sub-Area                             object\n",
       "Propert Type                         object\n",
       "Property Area in Sq. Ft.            float64\n",
       "Price in lakhs                       object\n",
       "Price in Millions                   float64\n",
       "Company Name                         object\n",
       "TownShip Name/ Society Name          object\n",
       "Total TownShip Area in Acres        float64\n",
       "ClubHouse                            object\n",
       "School / University in Township      object\n",
       "Hospital in TownShip                 object\n",
       "Mall in TownShip                     object\n",
       "Park / Jogging track                 object\n",
       "Swimming Pool                        object\n",
       "Gym                                  object\n",
       "dtype: object"
      ]
     },
     "execution_count": 265,
     "metadata": {},
     "output_type": "execute_result"
    }
   ],
   "source": [
    "df.dtypes"
   ]
  },
  {
   "cell_type": "code",
   "execution_count": 266,
   "metadata": {},
   "outputs": [
    {
     "data": {
      "text/html": [
       "<div>\n",
       "<style scoped>\n",
       "    .dataframe tbody tr th:only-of-type {\n",
       "        vertical-align: middle;\n",
       "    }\n",
       "\n",
       "    .dataframe tbody tr th {\n",
       "        vertical-align: top;\n",
       "    }\n",
       "\n",
       "    .dataframe thead th {\n",
       "        text-align: right;\n",
       "    }\n",
       "</style>\n",
       "<table border=\"1\" class=\"dataframe\">\n",
       "  <thead>\n",
       "    <tr style=\"text-align: right;\">\n",
       "      <th></th>\n",
       "      <th>Propert Type</th>\n",
       "      <th>Property Area in Sq. Ft.</th>\n",
       "      <th>Sub-Area</th>\n",
       "      <th>Swimming Pool</th>\n",
       "      <th>Price in Millions</th>\n",
       "    </tr>\n",
       "  </thead>\n",
       "  <tbody>\n",
       "    <tr>\n",
       "      <th>0</th>\n",
       "      <td>1 BHK</td>\n",
       "      <td>492.0</td>\n",
       "      <td>Bavdhan</td>\n",
       "      <td>Yes</td>\n",
       "      <td>3.9</td>\n",
       "    </tr>\n",
       "    <tr>\n",
       "      <th>1</th>\n",
       "      <td>2 BHK</td>\n",
       "      <td>774.0</td>\n",
       "      <td>Bavdhan</td>\n",
       "      <td>Yes</td>\n",
       "      <td>6.5</td>\n",
       "    </tr>\n",
       "    <tr>\n",
       "      <th>2</th>\n",
       "      <td>3 BHK</td>\n",
       "      <td>889.0</td>\n",
       "      <td>Bavdhan</td>\n",
       "      <td>Yes</td>\n",
       "      <td>7.4</td>\n",
       "    </tr>\n",
       "    <tr>\n",
       "      <th>3</th>\n",
       "      <td>3 BHK Grand</td>\n",
       "      <td>1018.0</td>\n",
       "      <td>Bavdhan</td>\n",
       "      <td>Yes</td>\n",
       "      <td>8.9</td>\n",
       "    </tr>\n",
       "    <tr>\n",
       "      <th>4</th>\n",
       "      <td>2BHK</td>\n",
       "      <td>743.0</td>\n",
       "      <td>Mahalunge</td>\n",
       "      <td>Yes</td>\n",
       "      <td>7.4</td>\n",
       "    </tr>\n",
       "  </tbody>\n",
       "</table>\n",
       "</div>"
      ],
      "text/plain": [
       "  Propert Type  Property Area in Sq. Ft.   Sub-Area Swimming Pool  \\\n",
       "0        1 BHK                     492.0    Bavdhan           Yes   \n",
       "1        2 BHK                     774.0    Bavdhan           Yes   \n",
       "2        3 BHK                     889.0    Bavdhan           Yes   \n",
       "3  3 BHK Grand                    1018.0    Bavdhan           Yes   \n",
       "4         2BHK                     743.0  Mahalunge           Yes   \n",
       "\n",
       "   Price in Millions  \n",
       "0                3.9  \n",
       "1                6.5  \n",
       "2                7.4  \n",
       "3                8.9  \n",
       "4                7.4  "
      ]
     },
     "execution_count": 266,
     "metadata": {},
     "output_type": "execute_result"
    }
   ],
   "source": [
    "df_selection = df[['Propert Type',\n",
    "                   'Property Area in Sq. Ft.',\n",
    "                   'Sub-Area',\n",
    "                   'Swimming Pool',\n",
    "                   'Price in Millions']]\n",
    "df_selection.head()"
   ]
  },
  {
   "cell_type": "code",
   "execution_count": 267,
   "metadata": {},
   "outputs": [
    {
     "data": {
      "text/html": [
       "<div>\n",
       "<style scoped>\n",
       "    .dataframe tbody tr th:only-of-type {\n",
       "        vertical-align: middle;\n",
       "    }\n",
       "\n",
       "    .dataframe tbody tr th {\n",
       "        vertical-align: top;\n",
       "    }\n",
       "\n",
       "    .dataframe thead th {\n",
       "        text-align: right;\n",
       "    }\n",
       "</style>\n",
       "<table border=\"1\" class=\"dataframe\">\n",
       "  <thead>\n",
       "    <tr style=\"text-align: right;\">\n",
       "      <th></th>\n",
       "      <th>Propert Type</th>\n",
       "      <th>Property Area in Sq. Ft.</th>\n",
       "      <th>Sub-Area</th>\n",
       "      <th>Swimming Pool</th>\n",
       "      <th>Price in Millions</th>\n",
       "    </tr>\n",
       "  </thead>\n",
       "  <tbody>\n",
       "    <tr>\n",
       "      <th>41</th>\n",
       "      <td>3BHK</td>\n",
       "      <td>1705.0</td>\n",
       "      <td>Keshav Nagar</td>\n",
       "      <td>Yes</td>\n",
       "      <td>NaN</td>\n",
       "    </tr>\n",
       "  </tbody>\n",
       "</table>\n",
       "</div>"
      ],
      "text/plain": [
       "   Propert Type  Property Area in Sq. Ft.      Sub-Area Swimming Pool  \\\n",
       "41         3BHK                    1705.0  Keshav Nagar           Yes   \n",
       "\n",
       "    Price in Millions  \n",
       "41                NaN  "
      ]
     },
     "execution_count": 267,
     "metadata": {},
     "output_type": "execute_result"
    }
   ],
   "source": [
    "nan_rows = df_selection[df_selection.isnull().any(axis=1)]\n",
    "nan_rows"
   ]
  },
  {
   "cell_type": "code",
   "execution_count": 268,
   "metadata": {},
   "outputs": [
    {
     "data": {
      "text/plain": [
       "array([41])"
      ]
     },
     "execution_count": 268,
     "metadata": {},
     "output_type": "execute_result"
    }
   ],
   "source": [
    "nan_rows.index.values"
   ]
  },
  {
   "cell_type": "code",
   "execution_count": 269,
   "metadata": {},
   "outputs": [
    {
     "data": {
      "text/plain": [
       "200"
      ]
     },
     "execution_count": 269,
     "metadata": {},
     "output_type": "execute_result"
    }
   ],
   "source": [
    "len(df_selection)"
   ]
  },
  {
   "cell_type": "code",
   "execution_count": 270,
   "metadata": {},
   "outputs": [
    {
     "data": {
      "text/plain": [
       "199"
      ]
     },
     "execution_count": 270,
     "metadata": {},
     "output_type": "execute_result"
    }
   ],
   "source": [
    "df_selection = df_selection.drop(nan_rows.index.values)\n",
    "len(df_selection)"
   ]
  },
  {
   "cell_type": "code",
   "execution_count": 271,
   "metadata": {},
   "outputs": [
    {
     "data": {
      "text/html": [
       "<div>\n",
       "<style scoped>\n",
       "    .dataframe tbody tr th:only-of-type {\n",
       "        vertical-align: middle;\n",
       "    }\n",
       "\n",
       "    .dataframe tbody tr th {\n",
       "        vertical-align: top;\n",
       "    }\n",
       "\n",
       "    .dataframe thead th {\n",
       "        text-align: right;\n",
       "    }\n",
       "</style>\n",
       "<table border=\"1\" class=\"dataframe\">\n",
       "  <thead>\n",
       "    <tr style=\"text-align: right;\">\n",
       "      <th></th>\n",
       "      <th>Propert Type</th>\n",
       "      <th>Property Area in Sq. Ft.</th>\n",
       "      <th>Sub-Area</th>\n",
       "      <th>Swimming Pool</th>\n",
       "      <th>Price in Millions</th>\n",
       "    </tr>\n",
       "  </thead>\n",
       "  <tbody>\n",
       "    <tr>\n",
       "      <th>0</th>\n",
       "      <td>1</td>\n",
       "      <td>492.0</td>\n",
       "      <td>Bavdhan</td>\n",
       "      <td>Yes</td>\n",
       "      <td>3.9</td>\n",
       "    </tr>\n",
       "    <tr>\n",
       "      <th>1</th>\n",
       "      <td>2</td>\n",
       "      <td>774.0</td>\n",
       "      <td>Bavdhan</td>\n",
       "      <td>Yes</td>\n",
       "      <td>6.5</td>\n",
       "    </tr>\n",
       "    <tr>\n",
       "      <th>2</th>\n",
       "      <td>3</td>\n",
       "      <td>889.0</td>\n",
       "      <td>Bavdhan</td>\n",
       "      <td>Yes</td>\n",
       "      <td>7.4</td>\n",
       "    </tr>\n",
       "    <tr>\n",
       "      <th>3</th>\n",
       "      <td>3</td>\n",
       "      <td>1018.0</td>\n",
       "      <td>Bavdhan</td>\n",
       "      <td>Yes</td>\n",
       "      <td>8.9</td>\n",
       "    </tr>\n",
       "    <tr>\n",
       "      <th>4</th>\n",
       "      <td>2</td>\n",
       "      <td>743.0</td>\n",
       "      <td>Mahalunge</td>\n",
       "      <td>Yes</td>\n",
       "      <td>7.4</td>\n",
       "    </tr>\n",
       "  </tbody>\n",
       "</table>\n",
       "</div>"
      ],
      "text/plain": [
       "  Propert Type  Property Area in Sq. Ft.   Sub-Area Swimming Pool  \\\n",
       "0            1                     492.0    Bavdhan           Yes   \n",
       "1            2                     774.0    Bavdhan           Yes   \n",
       "2            3                     889.0    Bavdhan           Yes   \n",
       "3            3                    1018.0    Bavdhan           Yes   \n",
       "4            2                     743.0  Mahalunge           Yes   \n",
       "\n",
       "   Price in Millions  \n",
       "0                3.9  \n",
       "1                6.5  \n",
       "2                7.4  \n",
       "3                8.9  \n",
       "4                7.4  "
      ]
     },
     "execution_count": 271,
     "metadata": {},
     "output_type": "execute_result"
    }
   ],
   "source": [
    "df_selection['Propert Type'] = df_selection['Propert Type'].str.extract('(\\d+)')\n",
    "df_selection.head()"
   ]
  },
  {
   "cell_type": "code",
   "execution_count": 272,
   "metadata": {},
   "outputs": [
    {
     "data": {
      "text/plain": [
       "199"
      ]
     },
     "execution_count": 272,
     "metadata": {},
     "output_type": "execute_result"
    }
   ],
   "source": [
    "nan_rows = df_selection[df_selection.isnull().any(axis=1)]\n",
    "nan_rows\n",
    "len(df_selection)"
   ]
  },
  {
   "cell_type": "code",
   "execution_count": 273,
   "metadata": {},
   "outputs": [
    {
     "data": {
      "text/plain": [
       "198"
      ]
     },
     "execution_count": 273,
     "metadata": {},
     "output_type": "execute_result"
    }
   ],
   "source": [
    "df_selection = df_selection.drop(nan_rows.index.values)\n",
    "len(df_selection)"
   ]
  },
  {
   "cell_type": "code",
   "execution_count": 274,
   "metadata": {},
   "outputs": [
    {
     "data": {
      "text/plain": [
       "array(['Bavdhan', 'Mahalunge', 'Balewadi', 'Ravet', 'Baner', 'Kharadi',\n",
       "       'Koregaon Park', 'Keshav Nagar', 'KirkatWadi Sinhagad Road',\n",
       "       'Akurdi', 'tathawade', 'hadapsar', 'kiwale', 'kayani nagar',\n",
       "       'pisoli', 'manjri ', 'mahalunge', 'handewadi', 'koregoan',\n",
       "       'Mundhwa', 'NIBM', 'BT Kawade RD', 'Undri ', 'Karvanagar ',\n",
       "       'magarpatta ', 'Hinjewadi ', 'ravet ', 'vimannagar',\n",
       "       'wadgaon sheri ', 'Susgaon ', 'mohammadwadi ', 'dhanori ',\n",
       "       'bavdhan budruk ', 'lonavala', 'baner', 'bavdhan', 'talegoan ',\n",
       "       'BANER'], dtype=object)"
      ]
     },
     "execution_count": 274,
     "metadata": {},
     "output_type": "execute_result"
    }
   ],
   "source": [
    "df_selection['Sub-Area'].unique()"
   ]
  },
  {
   "cell_type": "code",
   "execution_count": 275,
   "metadata": {},
   "outputs": [
    {
     "data": {
      "text/plain": [
       "array(['bavdhan', 'mahalunge', 'balewadi', 'ravet', 'baner', 'kharadi',\n",
       "       'koregaon park', 'keshav nagar', 'kirkatwadi sinhagad road',\n",
       "       'akurdi', 'tathawade', 'hadapsar', 'kiwale', 'kayani nagar',\n",
       "       'pisoli', 'manjri', 'handewadi', 'koregoan', 'mundhwa', 'nibm',\n",
       "       'bt kawade rd', 'undri', 'karvanagar', 'magarpatta', 'hinjewadi',\n",
       "       'vimannagar', 'wadgaon sheri', 'susgaon', 'mohammadwadi',\n",
       "       'dhanori', 'bavdhan budruk', 'lonavala', 'talegoan'], dtype=object)"
      ]
     },
     "execution_count": 275,
     "metadata": {},
     "output_type": "execute_result"
    }
   ],
   "source": [
    "df_selection['Sub-Area'] = df_selection['Sub-Area'].str.lower().str.strip()\n",
    "df_selection['Sub-Area'].unique()"
   ]
  },
  {
   "cell_type": "code",
   "execution_count": 276,
   "metadata": {},
   "outputs": [
    {
     "data": {
      "text/html": [
       "<div>\n",
       "<style scoped>\n",
       "    .dataframe tbody tr th:only-of-type {\n",
       "        vertical-align: middle;\n",
       "    }\n",
       "\n",
       "    .dataframe tbody tr th {\n",
       "        vertical-align: top;\n",
       "    }\n",
       "\n",
       "    .dataframe thead th {\n",
       "        text-align: right;\n",
       "    }\n",
       "</style>\n",
       "<table border=\"1\" class=\"dataframe\">\n",
       "  <thead>\n",
       "    <tr style=\"text-align: right;\">\n",
       "      <th></th>\n",
       "      <th>area_akurdi</th>\n",
       "      <th>area_balewadi</th>\n",
       "      <th>area_baner</th>\n",
       "      <th>area_bavdhan</th>\n",
       "      <th>area_bavdhan budruk</th>\n",
       "      <th>area_bt kawade rd</th>\n",
       "      <th>area_dhanori</th>\n",
       "      <th>area_hadapsar</th>\n",
       "      <th>area_handewadi</th>\n",
       "      <th>area_hinjewadi</th>\n",
       "      <th>...</th>\n",
       "      <th>area_mundhwa</th>\n",
       "      <th>area_nibm</th>\n",
       "      <th>area_pisoli</th>\n",
       "      <th>area_ravet</th>\n",
       "      <th>area_susgaon</th>\n",
       "      <th>area_talegoan</th>\n",
       "      <th>area_tathawade</th>\n",
       "      <th>area_undri</th>\n",
       "      <th>area_vimannagar</th>\n",
       "      <th>area_wadgaon sheri</th>\n",
       "    </tr>\n",
       "  </thead>\n",
       "  <tbody>\n",
       "    <tr>\n",
       "      <th>0</th>\n",
       "      <td>0.0</td>\n",
       "      <td>0.0</td>\n",
       "      <td>0.0</td>\n",
       "      <td>1.0</td>\n",
       "      <td>0.0</td>\n",
       "      <td>0.0</td>\n",
       "      <td>0.0</td>\n",
       "      <td>0.0</td>\n",
       "      <td>0.0</td>\n",
       "      <td>0.0</td>\n",
       "      <td>...</td>\n",
       "      <td>0.0</td>\n",
       "      <td>0.0</td>\n",
       "      <td>0.0</td>\n",
       "      <td>0.0</td>\n",
       "      <td>0.0</td>\n",
       "      <td>0.0</td>\n",
       "      <td>0.0</td>\n",
       "      <td>0.0</td>\n",
       "      <td>0.0</td>\n",
       "      <td>0.0</td>\n",
       "    </tr>\n",
       "    <tr>\n",
       "      <th>1</th>\n",
       "      <td>0.0</td>\n",
       "      <td>0.0</td>\n",
       "      <td>0.0</td>\n",
       "      <td>1.0</td>\n",
       "      <td>0.0</td>\n",
       "      <td>0.0</td>\n",
       "      <td>0.0</td>\n",
       "      <td>0.0</td>\n",
       "      <td>0.0</td>\n",
       "      <td>0.0</td>\n",
       "      <td>...</td>\n",
       "      <td>0.0</td>\n",
       "      <td>0.0</td>\n",
       "      <td>0.0</td>\n",
       "      <td>0.0</td>\n",
       "      <td>0.0</td>\n",
       "      <td>0.0</td>\n",
       "      <td>0.0</td>\n",
       "      <td>0.0</td>\n",
       "      <td>0.0</td>\n",
       "      <td>0.0</td>\n",
       "    </tr>\n",
       "    <tr>\n",
       "      <th>2</th>\n",
       "      <td>0.0</td>\n",
       "      <td>0.0</td>\n",
       "      <td>0.0</td>\n",
       "      <td>1.0</td>\n",
       "      <td>0.0</td>\n",
       "      <td>0.0</td>\n",
       "      <td>0.0</td>\n",
       "      <td>0.0</td>\n",
       "      <td>0.0</td>\n",
       "      <td>0.0</td>\n",
       "      <td>...</td>\n",
       "      <td>0.0</td>\n",
       "      <td>0.0</td>\n",
       "      <td>0.0</td>\n",
       "      <td>0.0</td>\n",
       "      <td>0.0</td>\n",
       "      <td>0.0</td>\n",
       "      <td>0.0</td>\n",
       "      <td>0.0</td>\n",
       "      <td>0.0</td>\n",
       "      <td>0.0</td>\n",
       "    </tr>\n",
       "    <tr>\n",
       "      <th>3</th>\n",
       "      <td>0.0</td>\n",
       "      <td>0.0</td>\n",
       "      <td>0.0</td>\n",
       "      <td>1.0</td>\n",
       "      <td>0.0</td>\n",
       "      <td>0.0</td>\n",
       "      <td>0.0</td>\n",
       "      <td>0.0</td>\n",
       "      <td>0.0</td>\n",
       "      <td>0.0</td>\n",
       "      <td>...</td>\n",
       "      <td>0.0</td>\n",
       "      <td>0.0</td>\n",
       "      <td>0.0</td>\n",
       "      <td>0.0</td>\n",
       "      <td>0.0</td>\n",
       "      <td>0.0</td>\n",
       "      <td>0.0</td>\n",
       "      <td>0.0</td>\n",
       "      <td>0.0</td>\n",
       "      <td>0.0</td>\n",
       "    </tr>\n",
       "    <tr>\n",
       "      <th>4</th>\n",
       "      <td>0.0</td>\n",
       "      <td>0.0</td>\n",
       "      <td>0.0</td>\n",
       "      <td>0.0</td>\n",
       "      <td>0.0</td>\n",
       "      <td>0.0</td>\n",
       "      <td>0.0</td>\n",
       "      <td>0.0</td>\n",
       "      <td>0.0</td>\n",
       "      <td>0.0</td>\n",
       "      <td>...</td>\n",
       "      <td>0.0</td>\n",
       "      <td>0.0</td>\n",
       "      <td>0.0</td>\n",
       "      <td>0.0</td>\n",
       "      <td>0.0</td>\n",
       "      <td>0.0</td>\n",
       "      <td>0.0</td>\n",
       "      <td>0.0</td>\n",
       "      <td>0.0</td>\n",
       "      <td>0.0</td>\n",
       "    </tr>\n",
       "  </tbody>\n",
       "</table>\n",
       "<p>5 rows × 33 columns</p>\n",
       "</div>"
      ],
      "text/plain": [
       "   area_akurdi  area_balewadi  area_baner  area_bavdhan  area_bavdhan budruk  \\\n",
       "0          0.0            0.0         0.0           1.0                  0.0   \n",
       "1          0.0            0.0         0.0           1.0                  0.0   \n",
       "2          0.0            0.0         0.0           1.0                  0.0   \n",
       "3          0.0            0.0         0.0           1.0                  0.0   \n",
       "4          0.0            0.0         0.0           0.0                  0.0   \n",
       "\n",
       "   area_bt kawade rd  area_dhanori  area_hadapsar  area_handewadi  \\\n",
       "0                0.0           0.0            0.0             0.0   \n",
       "1                0.0           0.0            0.0             0.0   \n",
       "2                0.0           0.0            0.0             0.0   \n",
       "3                0.0           0.0            0.0             0.0   \n",
       "4                0.0           0.0            0.0             0.0   \n",
       "\n",
       "   area_hinjewadi  ...  area_mundhwa  area_nibm  area_pisoli  area_ravet  \\\n",
       "0             0.0  ...           0.0        0.0          0.0         0.0   \n",
       "1             0.0  ...           0.0        0.0          0.0         0.0   \n",
       "2             0.0  ...           0.0        0.0          0.0         0.0   \n",
       "3             0.0  ...           0.0        0.0          0.0         0.0   \n",
       "4             0.0  ...           0.0        0.0          0.0         0.0   \n",
       "\n",
       "   area_susgaon  area_talegoan  area_tathawade  area_undri  area_vimannagar  \\\n",
       "0           0.0            0.0             0.0         0.0              0.0   \n",
       "1           0.0            0.0             0.0         0.0              0.0   \n",
       "2           0.0            0.0             0.0         0.0              0.0   \n",
       "3           0.0            0.0             0.0         0.0              0.0   \n",
       "4           0.0            0.0             0.0         0.0              0.0   \n",
       "\n",
       "   area_wadgaon sheri  \n",
       "0                 0.0  \n",
       "1                 0.0  \n",
       "2                 0.0  \n",
       "3                 0.0  \n",
       "4                 0.0  \n",
       "\n",
       "[5 rows x 33 columns]"
      ]
     },
     "execution_count": 276,
     "metadata": {},
     "output_type": "execute_result"
    }
   ],
   "source": [
    "area_encoded = pd.get_dummies(df_selection['Sub-Area'], prefix='area', dtype='float64')\n",
    "area_encoded.head()"
   ]
  },
  {
   "cell_type": "code",
   "execution_count": 277,
   "metadata": {},
   "outputs": [
    {
     "data": {
      "text/html": [
       "<div>\n",
       "<style scoped>\n",
       "    .dataframe tbody tr th:only-of-type {\n",
       "        vertical-align: middle;\n",
       "    }\n",
       "\n",
       "    .dataframe tbody tr th {\n",
       "        vertical-align: top;\n",
       "    }\n",
       "\n",
       "    .dataframe thead th {\n",
       "        text-align: right;\n",
       "    }\n",
       "</style>\n",
       "<table border=\"1\" class=\"dataframe\">\n",
       "  <thead>\n",
       "    <tr style=\"text-align: right;\">\n",
       "      <th></th>\n",
       "      <th>Propert Type</th>\n",
       "      <th>Property Area in Sq. Ft.</th>\n",
       "      <th>Sub-Area</th>\n",
       "      <th>Swimming Pool</th>\n",
       "      <th>Price in Millions</th>\n",
       "      <th>area_akurdi</th>\n",
       "      <th>area_balewadi</th>\n",
       "      <th>area_baner</th>\n",
       "      <th>area_bavdhan</th>\n",
       "      <th>area_bavdhan budruk</th>\n",
       "      <th>...</th>\n",
       "      <th>area_mundhwa</th>\n",
       "      <th>area_nibm</th>\n",
       "      <th>area_pisoli</th>\n",
       "      <th>area_ravet</th>\n",
       "      <th>area_susgaon</th>\n",
       "      <th>area_talegoan</th>\n",
       "      <th>area_tathawade</th>\n",
       "      <th>area_undri</th>\n",
       "      <th>area_vimannagar</th>\n",
       "      <th>area_wadgaon sheri</th>\n",
       "    </tr>\n",
       "  </thead>\n",
       "  <tbody>\n",
       "    <tr>\n",
       "      <th>0</th>\n",
       "      <td>1</td>\n",
       "      <td>492.0</td>\n",
       "      <td>bavdhan</td>\n",
       "      <td>Yes</td>\n",
       "      <td>3.9</td>\n",
       "      <td>0.0</td>\n",
       "      <td>0.0</td>\n",
       "      <td>0.0</td>\n",
       "      <td>1.0</td>\n",
       "      <td>0.0</td>\n",
       "      <td>...</td>\n",
       "      <td>0.0</td>\n",
       "      <td>0.0</td>\n",
       "      <td>0.0</td>\n",
       "      <td>0.0</td>\n",
       "      <td>0.0</td>\n",
       "      <td>0.0</td>\n",
       "      <td>0.0</td>\n",
       "      <td>0.0</td>\n",
       "      <td>0.0</td>\n",
       "      <td>0.0</td>\n",
       "    </tr>\n",
       "    <tr>\n",
       "      <th>1</th>\n",
       "      <td>2</td>\n",
       "      <td>774.0</td>\n",
       "      <td>bavdhan</td>\n",
       "      <td>Yes</td>\n",
       "      <td>6.5</td>\n",
       "      <td>0.0</td>\n",
       "      <td>0.0</td>\n",
       "      <td>0.0</td>\n",
       "      <td>1.0</td>\n",
       "      <td>0.0</td>\n",
       "      <td>...</td>\n",
       "      <td>0.0</td>\n",
       "      <td>0.0</td>\n",
       "      <td>0.0</td>\n",
       "      <td>0.0</td>\n",
       "      <td>0.0</td>\n",
       "      <td>0.0</td>\n",
       "      <td>0.0</td>\n",
       "      <td>0.0</td>\n",
       "      <td>0.0</td>\n",
       "      <td>0.0</td>\n",
       "    </tr>\n",
       "    <tr>\n",
       "      <th>2</th>\n",
       "      <td>3</td>\n",
       "      <td>889.0</td>\n",
       "      <td>bavdhan</td>\n",
       "      <td>Yes</td>\n",
       "      <td>7.4</td>\n",
       "      <td>0.0</td>\n",
       "      <td>0.0</td>\n",
       "      <td>0.0</td>\n",
       "      <td>1.0</td>\n",
       "      <td>0.0</td>\n",
       "      <td>...</td>\n",
       "      <td>0.0</td>\n",
       "      <td>0.0</td>\n",
       "      <td>0.0</td>\n",
       "      <td>0.0</td>\n",
       "      <td>0.0</td>\n",
       "      <td>0.0</td>\n",
       "      <td>0.0</td>\n",
       "      <td>0.0</td>\n",
       "      <td>0.0</td>\n",
       "      <td>0.0</td>\n",
       "    </tr>\n",
       "    <tr>\n",
       "      <th>3</th>\n",
       "      <td>3</td>\n",
       "      <td>1018.0</td>\n",
       "      <td>bavdhan</td>\n",
       "      <td>Yes</td>\n",
       "      <td>8.9</td>\n",
       "      <td>0.0</td>\n",
       "      <td>0.0</td>\n",
       "      <td>0.0</td>\n",
       "      <td>1.0</td>\n",
       "      <td>0.0</td>\n",
       "      <td>...</td>\n",
       "      <td>0.0</td>\n",
       "      <td>0.0</td>\n",
       "      <td>0.0</td>\n",
       "      <td>0.0</td>\n",
       "      <td>0.0</td>\n",
       "      <td>0.0</td>\n",
       "      <td>0.0</td>\n",
       "      <td>0.0</td>\n",
       "      <td>0.0</td>\n",
       "      <td>0.0</td>\n",
       "    </tr>\n",
       "    <tr>\n",
       "      <th>4</th>\n",
       "      <td>2</td>\n",
       "      <td>743.0</td>\n",
       "      <td>mahalunge</td>\n",
       "      <td>Yes</td>\n",
       "      <td>7.4</td>\n",
       "      <td>0.0</td>\n",
       "      <td>0.0</td>\n",
       "      <td>0.0</td>\n",
       "      <td>0.0</td>\n",
       "      <td>0.0</td>\n",
       "      <td>...</td>\n",
       "      <td>0.0</td>\n",
       "      <td>0.0</td>\n",
       "      <td>0.0</td>\n",
       "      <td>0.0</td>\n",
       "      <td>0.0</td>\n",
       "      <td>0.0</td>\n",
       "      <td>0.0</td>\n",
       "      <td>0.0</td>\n",
       "      <td>0.0</td>\n",
       "      <td>0.0</td>\n",
       "    </tr>\n",
       "  </tbody>\n",
       "</table>\n",
       "<p>5 rows × 38 columns</p>\n",
       "</div>"
      ],
      "text/plain": [
       "  Propert Type  Property Area in Sq. Ft.   Sub-Area Swimming Pool  \\\n",
       "0            1                     492.0    bavdhan           Yes   \n",
       "1            2                     774.0    bavdhan           Yes   \n",
       "2            3                     889.0    bavdhan           Yes   \n",
       "3            3                    1018.0    bavdhan           Yes   \n",
       "4            2                     743.0  mahalunge           Yes   \n",
       "\n",
       "   Price in Millions  area_akurdi  area_balewadi  area_baner  area_bavdhan  \\\n",
       "0                3.9          0.0            0.0         0.0           1.0   \n",
       "1                6.5          0.0            0.0         0.0           1.0   \n",
       "2                7.4          0.0            0.0         0.0           1.0   \n",
       "3                8.9          0.0            0.0         0.0           1.0   \n",
       "4                7.4          0.0            0.0         0.0           0.0   \n",
       "\n",
       "   area_bavdhan budruk  ...  area_mundhwa  area_nibm  area_pisoli  area_ravet  \\\n",
       "0                  0.0  ...           0.0        0.0          0.0         0.0   \n",
       "1                  0.0  ...           0.0        0.0          0.0         0.0   \n",
       "2                  0.0  ...           0.0        0.0          0.0         0.0   \n",
       "3                  0.0  ...           0.0        0.0          0.0         0.0   \n",
       "4                  0.0  ...           0.0        0.0          0.0         0.0   \n",
       "\n",
       "   area_susgaon  area_talegoan  area_tathawade  area_undri  area_vimannagar  \\\n",
       "0           0.0            0.0             0.0         0.0              0.0   \n",
       "1           0.0            0.0             0.0         0.0              0.0   \n",
       "2           0.0            0.0             0.0         0.0              0.0   \n",
       "3           0.0            0.0             0.0         0.0              0.0   \n",
       "4           0.0            0.0             0.0         0.0              0.0   \n",
       "\n",
       "   area_wadgaon sheri  \n",
       "0                 0.0  \n",
       "1                 0.0  \n",
       "2                 0.0  \n",
       "3                 0.0  \n",
       "4                 0.0  \n",
       "\n",
       "[5 rows x 38 columns]"
      ]
     },
     "execution_count": 277,
     "metadata": {},
     "output_type": "execute_result"
    }
   ],
   "source": [
    "df_selection = pd.concat([df_selection, area_encoded], axis=1)\n",
    "df_selection.head()"
   ]
  },
  {
   "cell_type": "code",
   "execution_count": 278,
   "metadata": {},
   "outputs": [
    {
     "data": {
      "text/html": [
       "<div>\n",
       "<style scoped>\n",
       "    .dataframe tbody tr th:only-of-type {\n",
       "        vertical-align: middle;\n",
       "    }\n",
       "\n",
       "    .dataframe tbody tr th {\n",
       "        vertical-align: top;\n",
       "    }\n",
       "\n",
       "    .dataframe thead th {\n",
       "        text-align: right;\n",
       "    }\n",
       "</style>\n",
       "<table border=\"1\" class=\"dataframe\">\n",
       "  <thead>\n",
       "    <tr style=\"text-align: right;\">\n",
       "      <th></th>\n",
       "      <th>Propert Type</th>\n",
       "      <th>Property Area in Sq. Ft.</th>\n",
       "      <th>Swimming Pool</th>\n",
       "      <th>Price in Millions</th>\n",
       "      <th>area_akurdi</th>\n",
       "      <th>area_balewadi</th>\n",
       "      <th>area_baner</th>\n",
       "      <th>area_bavdhan</th>\n",
       "      <th>area_bavdhan budruk</th>\n",
       "      <th>area_bt kawade rd</th>\n",
       "      <th>...</th>\n",
       "      <th>area_mundhwa</th>\n",
       "      <th>area_nibm</th>\n",
       "      <th>area_pisoli</th>\n",
       "      <th>area_ravet</th>\n",
       "      <th>area_susgaon</th>\n",
       "      <th>area_talegoan</th>\n",
       "      <th>area_tathawade</th>\n",
       "      <th>area_undri</th>\n",
       "      <th>area_vimannagar</th>\n",
       "      <th>area_wadgaon sheri</th>\n",
       "    </tr>\n",
       "  </thead>\n",
       "  <tbody>\n",
       "    <tr>\n",
       "      <th>0</th>\n",
       "      <td>1</td>\n",
       "      <td>492.0</td>\n",
       "      <td>Yes</td>\n",
       "      <td>3.9</td>\n",
       "      <td>0.0</td>\n",
       "      <td>0.0</td>\n",
       "      <td>0.0</td>\n",
       "      <td>1.0</td>\n",
       "      <td>0.0</td>\n",
       "      <td>0.0</td>\n",
       "      <td>...</td>\n",
       "      <td>0.0</td>\n",
       "      <td>0.0</td>\n",
       "      <td>0.0</td>\n",
       "      <td>0.0</td>\n",
       "      <td>0.0</td>\n",
       "      <td>0.0</td>\n",
       "      <td>0.0</td>\n",
       "      <td>0.0</td>\n",
       "      <td>0.0</td>\n",
       "      <td>0.0</td>\n",
       "    </tr>\n",
       "    <tr>\n",
       "      <th>1</th>\n",
       "      <td>2</td>\n",
       "      <td>774.0</td>\n",
       "      <td>Yes</td>\n",
       "      <td>6.5</td>\n",
       "      <td>0.0</td>\n",
       "      <td>0.0</td>\n",
       "      <td>0.0</td>\n",
       "      <td>1.0</td>\n",
       "      <td>0.0</td>\n",
       "      <td>0.0</td>\n",
       "      <td>...</td>\n",
       "      <td>0.0</td>\n",
       "      <td>0.0</td>\n",
       "      <td>0.0</td>\n",
       "      <td>0.0</td>\n",
       "      <td>0.0</td>\n",
       "      <td>0.0</td>\n",
       "      <td>0.0</td>\n",
       "      <td>0.0</td>\n",
       "      <td>0.0</td>\n",
       "      <td>0.0</td>\n",
       "    </tr>\n",
       "    <tr>\n",
       "      <th>2</th>\n",
       "      <td>3</td>\n",
       "      <td>889.0</td>\n",
       "      <td>Yes</td>\n",
       "      <td>7.4</td>\n",
       "      <td>0.0</td>\n",
       "      <td>0.0</td>\n",
       "      <td>0.0</td>\n",
       "      <td>1.0</td>\n",
       "      <td>0.0</td>\n",
       "      <td>0.0</td>\n",
       "      <td>...</td>\n",
       "      <td>0.0</td>\n",
       "      <td>0.0</td>\n",
       "      <td>0.0</td>\n",
       "      <td>0.0</td>\n",
       "      <td>0.0</td>\n",
       "      <td>0.0</td>\n",
       "      <td>0.0</td>\n",
       "      <td>0.0</td>\n",
       "      <td>0.0</td>\n",
       "      <td>0.0</td>\n",
       "    </tr>\n",
       "    <tr>\n",
       "      <th>3</th>\n",
       "      <td>3</td>\n",
       "      <td>1018.0</td>\n",
       "      <td>Yes</td>\n",
       "      <td>8.9</td>\n",
       "      <td>0.0</td>\n",
       "      <td>0.0</td>\n",
       "      <td>0.0</td>\n",
       "      <td>1.0</td>\n",
       "      <td>0.0</td>\n",
       "      <td>0.0</td>\n",
       "      <td>...</td>\n",
       "      <td>0.0</td>\n",
       "      <td>0.0</td>\n",
       "      <td>0.0</td>\n",
       "      <td>0.0</td>\n",
       "      <td>0.0</td>\n",
       "      <td>0.0</td>\n",
       "      <td>0.0</td>\n",
       "      <td>0.0</td>\n",
       "      <td>0.0</td>\n",
       "      <td>0.0</td>\n",
       "    </tr>\n",
       "    <tr>\n",
       "      <th>4</th>\n",
       "      <td>2</td>\n",
       "      <td>743.0</td>\n",
       "      <td>Yes</td>\n",
       "      <td>7.4</td>\n",
       "      <td>0.0</td>\n",
       "      <td>0.0</td>\n",
       "      <td>0.0</td>\n",
       "      <td>0.0</td>\n",
       "      <td>0.0</td>\n",
       "      <td>0.0</td>\n",
       "      <td>...</td>\n",
       "      <td>0.0</td>\n",
       "      <td>0.0</td>\n",
       "      <td>0.0</td>\n",
       "      <td>0.0</td>\n",
       "      <td>0.0</td>\n",
       "      <td>0.0</td>\n",
       "      <td>0.0</td>\n",
       "      <td>0.0</td>\n",
       "      <td>0.0</td>\n",
       "      <td>0.0</td>\n",
       "    </tr>\n",
       "  </tbody>\n",
       "</table>\n",
       "<p>5 rows × 37 columns</p>\n",
       "</div>"
      ],
      "text/plain": [
       "  Propert Type  Property Area in Sq. Ft. Swimming Pool  Price in Millions  \\\n",
       "0            1                     492.0           Yes                3.9   \n",
       "1            2                     774.0           Yes                6.5   \n",
       "2            3                     889.0           Yes                7.4   \n",
       "3            3                    1018.0           Yes                8.9   \n",
       "4            2                     743.0           Yes                7.4   \n",
       "\n",
       "   area_akurdi  area_balewadi  area_baner  area_bavdhan  area_bavdhan budruk  \\\n",
       "0          0.0            0.0         0.0           1.0                  0.0   \n",
       "1          0.0            0.0         0.0           1.0                  0.0   \n",
       "2          0.0            0.0         0.0           1.0                  0.0   \n",
       "3          0.0            0.0         0.0           1.0                  0.0   \n",
       "4          0.0            0.0         0.0           0.0                  0.0   \n",
       "\n",
       "   area_bt kawade rd  ...  area_mundhwa  area_nibm  area_pisoli  area_ravet  \\\n",
       "0                0.0  ...           0.0        0.0          0.0         0.0   \n",
       "1                0.0  ...           0.0        0.0          0.0         0.0   \n",
       "2                0.0  ...           0.0        0.0          0.0         0.0   \n",
       "3                0.0  ...           0.0        0.0          0.0         0.0   \n",
       "4                0.0  ...           0.0        0.0          0.0         0.0   \n",
       "\n",
       "   area_susgaon  area_talegoan  area_tathawade  area_undri  area_vimannagar  \\\n",
       "0           0.0            0.0             0.0         0.0              0.0   \n",
       "1           0.0            0.0             0.0         0.0              0.0   \n",
       "2           0.0            0.0             0.0         0.0              0.0   \n",
       "3           0.0            0.0             0.0         0.0              0.0   \n",
       "4           0.0            0.0             0.0         0.0              0.0   \n",
       "\n",
       "   area_wadgaon sheri  \n",
       "0                 0.0  \n",
       "1                 0.0  \n",
       "2                 0.0  \n",
       "3                 0.0  \n",
       "4                 0.0  \n",
       "\n",
       "[5 rows x 37 columns]"
      ]
     },
     "execution_count": 278,
     "metadata": {},
     "output_type": "execute_result"
    }
   ],
   "source": [
    "df_selection = df_selection.drop(['Sub-Area'], axis=1)\n",
    "df_selection.head()"
   ]
  },
  {
   "cell_type": "code",
   "execution_count": 279,
   "metadata": {},
   "outputs": [
    {
     "data": {
      "text/plain": [
       "array(['yes', 'no'], dtype=object)"
      ]
     },
     "execution_count": 279,
     "metadata": {},
     "output_type": "execute_result"
    }
   ],
   "source": [
    "df_selection['Swimming Pool'] = df_selection['Swimming Pool'].str.lower().str.strip()\n",
    "df_selection['Swimming Pool'].unique()"
   ]
  },
  {
   "cell_type": "code",
   "execution_count": 280,
   "metadata": {},
   "outputs": [],
   "source": [
    "df_selection['Swimming Pool'] = df_selection['Swimming Pool'].map({'yes': True, 'no': False})"
   ]
  },
  {
   "cell_type": "code",
   "execution_count": 281,
   "metadata": {},
   "outputs": [],
   "source": [
    "from sklearn.preprocessing import MinMaxScaler\n",
    "scaler = MinMaxScaler()"
   ]
  },
  {
   "cell_type": "code",
   "execution_count": 282,
   "metadata": {},
   "outputs": [],
   "source": [
    "df_selection['Property Area in Sq. Ft.'] = scaler.fit_transform(df_selection[['Property Area in Sq. Ft.']]) "
   ]
  },
  {
   "cell_type": "code",
   "execution_count": 283,
   "metadata": {},
   "outputs": [
    {
     "data": {
      "text/html": [
       "<div>\n",
       "<style scoped>\n",
       "    .dataframe tbody tr th:only-of-type {\n",
       "        vertical-align: middle;\n",
       "    }\n",
       "\n",
       "    .dataframe tbody tr th {\n",
       "        vertical-align: top;\n",
       "    }\n",
       "\n",
       "    .dataframe thead th {\n",
       "        text-align: right;\n",
       "    }\n",
       "</style>\n",
       "<table border=\"1\" class=\"dataframe\">\n",
       "  <thead>\n",
       "    <tr style=\"text-align: right;\">\n",
       "      <th></th>\n",
       "      <th>Propert Type</th>\n",
       "      <th>Property Area in Sq. Ft.</th>\n",
       "      <th>Swimming Pool</th>\n",
       "      <th>Price in Millions</th>\n",
       "      <th>area_akurdi</th>\n",
       "      <th>area_balewadi</th>\n",
       "      <th>area_baner</th>\n",
       "      <th>area_bavdhan</th>\n",
       "      <th>area_bavdhan budruk</th>\n",
       "      <th>area_bt kawade rd</th>\n",
       "      <th>...</th>\n",
       "      <th>area_mundhwa</th>\n",
       "      <th>area_nibm</th>\n",
       "      <th>area_pisoli</th>\n",
       "      <th>area_ravet</th>\n",
       "      <th>area_susgaon</th>\n",
       "      <th>area_talegoan</th>\n",
       "      <th>area_tathawade</th>\n",
       "      <th>area_undri</th>\n",
       "      <th>area_vimannagar</th>\n",
       "      <th>area_wadgaon sheri</th>\n",
       "    </tr>\n",
       "  </thead>\n",
       "  <tbody>\n",
       "    <tr>\n",
       "      <th>0</th>\n",
       "      <td>1</td>\n",
       "      <td>0.162382</td>\n",
       "      <td>True</td>\n",
       "      <td>3.9</td>\n",
       "      <td>0.0</td>\n",
       "      <td>0.0</td>\n",
       "      <td>0.0</td>\n",
       "      <td>1.0</td>\n",
       "      <td>0.0</td>\n",
       "      <td>0.0</td>\n",
       "      <td>...</td>\n",
       "      <td>0.0</td>\n",
       "      <td>0.0</td>\n",
       "      <td>0.0</td>\n",
       "      <td>0.0</td>\n",
       "      <td>0.0</td>\n",
       "      <td>0.0</td>\n",
       "      <td>0.0</td>\n",
       "      <td>0.0</td>\n",
       "      <td>0.0</td>\n",
       "      <td>0.0</td>\n",
       "    </tr>\n",
       "    <tr>\n",
       "      <th>1</th>\n",
       "      <td>2</td>\n",
       "      <td>0.283205</td>\n",
       "      <td>True</td>\n",
       "      <td>6.5</td>\n",
       "      <td>0.0</td>\n",
       "      <td>0.0</td>\n",
       "      <td>0.0</td>\n",
       "      <td>1.0</td>\n",
       "      <td>0.0</td>\n",
       "      <td>0.0</td>\n",
       "      <td>...</td>\n",
       "      <td>0.0</td>\n",
       "      <td>0.0</td>\n",
       "      <td>0.0</td>\n",
       "      <td>0.0</td>\n",
       "      <td>0.0</td>\n",
       "      <td>0.0</td>\n",
       "      <td>0.0</td>\n",
       "      <td>0.0</td>\n",
       "      <td>0.0</td>\n",
       "      <td>0.0</td>\n",
       "    </tr>\n",
       "    <tr>\n",
       "      <th>2</th>\n",
       "      <td>3</td>\n",
       "      <td>0.332476</td>\n",
       "      <td>True</td>\n",
       "      <td>7.4</td>\n",
       "      <td>0.0</td>\n",
       "      <td>0.0</td>\n",
       "      <td>0.0</td>\n",
       "      <td>1.0</td>\n",
       "      <td>0.0</td>\n",
       "      <td>0.0</td>\n",
       "      <td>...</td>\n",
       "      <td>0.0</td>\n",
       "      <td>0.0</td>\n",
       "      <td>0.0</td>\n",
       "      <td>0.0</td>\n",
       "      <td>0.0</td>\n",
       "      <td>0.0</td>\n",
       "      <td>0.0</td>\n",
       "      <td>0.0</td>\n",
       "      <td>0.0</td>\n",
       "      <td>0.0</td>\n",
       "    </tr>\n",
       "    <tr>\n",
       "      <th>3</th>\n",
       "      <td>3</td>\n",
       "      <td>0.387746</td>\n",
       "      <td>True</td>\n",
       "      <td>8.9</td>\n",
       "      <td>0.0</td>\n",
       "      <td>0.0</td>\n",
       "      <td>0.0</td>\n",
       "      <td>1.0</td>\n",
       "      <td>0.0</td>\n",
       "      <td>0.0</td>\n",
       "      <td>...</td>\n",
       "      <td>0.0</td>\n",
       "      <td>0.0</td>\n",
       "      <td>0.0</td>\n",
       "      <td>0.0</td>\n",
       "      <td>0.0</td>\n",
       "      <td>0.0</td>\n",
       "      <td>0.0</td>\n",
       "      <td>0.0</td>\n",
       "      <td>0.0</td>\n",
       "      <td>0.0</td>\n",
       "    </tr>\n",
       "    <tr>\n",
       "      <th>4</th>\n",
       "      <td>2</td>\n",
       "      <td>0.269923</td>\n",
       "      <td>True</td>\n",
       "      <td>7.4</td>\n",
       "      <td>0.0</td>\n",
       "      <td>0.0</td>\n",
       "      <td>0.0</td>\n",
       "      <td>0.0</td>\n",
       "      <td>0.0</td>\n",
       "      <td>0.0</td>\n",
       "      <td>...</td>\n",
       "      <td>0.0</td>\n",
       "      <td>0.0</td>\n",
       "      <td>0.0</td>\n",
       "      <td>0.0</td>\n",
       "      <td>0.0</td>\n",
       "      <td>0.0</td>\n",
       "      <td>0.0</td>\n",
       "      <td>0.0</td>\n",
       "      <td>0.0</td>\n",
       "      <td>0.0</td>\n",
       "    </tr>\n",
       "  </tbody>\n",
       "</table>\n",
       "<p>5 rows × 37 columns</p>\n",
       "</div>"
      ],
      "text/plain": [
       "  Propert Type  Property Area in Sq. Ft.  Swimming Pool  Price in Millions  \\\n",
       "0            1                  0.162382           True                3.9   \n",
       "1            2                  0.283205           True                6.5   \n",
       "2            3                  0.332476           True                7.4   \n",
       "3            3                  0.387746           True                8.9   \n",
       "4            2                  0.269923           True                7.4   \n",
       "\n",
       "   area_akurdi  area_balewadi  area_baner  area_bavdhan  area_bavdhan budruk  \\\n",
       "0          0.0            0.0         0.0           1.0                  0.0   \n",
       "1          0.0            0.0         0.0           1.0                  0.0   \n",
       "2          0.0            0.0         0.0           1.0                  0.0   \n",
       "3          0.0            0.0         0.0           1.0                  0.0   \n",
       "4          0.0            0.0         0.0           0.0                  0.0   \n",
       "\n",
       "   area_bt kawade rd  ...  area_mundhwa  area_nibm  area_pisoli  area_ravet  \\\n",
       "0                0.0  ...           0.0        0.0          0.0         0.0   \n",
       "1                0.0  ...           0.0        0.0          0.0         0.0   \n",
       "2                0.0  ...           0.0        0.0          0.0         0.0   \n",
       "3                0.0  ...           0.0        0.0          0.0         0.0   \n",
       "4                0.0  ...           0.0        0.0          0.0         0.0   \n",
       "\n",
       "   area_susgaon  area_talegoan  area_tathawade  area_undri  area_vimannagar  \\\n",
       "0           0.0            0.0             0.0         0.0              0.0   \n",
       "1           0.0            0.0             0.0         0.0              0.0   \n",
       "2           0.0            0.0             0.0         0.0              0.0   \n",
       "3           0.0            0.0             0.0         0.0              0.0   \n",
       "4           0.0            0.0             0.0         0.0              0.0   \n",
       "\n",
       "   area_wadgaon sheri  \n",
       "0                 0.0  \n",
       "1                 0.0  \n",
       "2                 0.0  \n",
       "3                 0.0  \n",
       "4                 0.0  \n",
       "\n",
       "[5 rows x 37 columns]"
      ]
     },
     "execution_count": 283,
     "metadata": {},
     "output_type": "execute_result"
    }
   ],
   "source": [
    "df_selection.head()"
   ]
  },
  {
   "cell_type": "code",
   "execution_count": 284,
   "metadata": {},
   "outputs": [],
   "source": [
    "df_selection['Propert Type'] = df_selection['Propert Type'].astype(float, errors='raise')\n",
    "#df_selection['Property Area in Sq. Ft.'] = df_selection['Property Area in Sq. Ft.'].astype(float, errors='raise')\n",
    "df_selection['Swimming Pool'] = df_selection['Swimming Pool'].astype(float, errors='raise')\n",
    "#df_selection['Price in Millions'] = df_selection['Price in Millions'].astype(float, errors='raise')"
   ]
  },
  {
   "cell_type": "code",
   "execution_count": 285,
   "metadata": {},
   "outputs": [
    {
     "data": {
      "text/plain": [
       "Propert Type                     float64\n",
       "Property Area in Sq. Ft.         float64\n",
       "Swimming Pool                    float64\n",
       "Price in Millions                float64\n",
       "area_akurdi                      float64\n",
       "area_balewadi                    float64\n",
       "area_baner                       float64\n",
       "area_bavdhan                     float64\n",
       "area_bavdhan budruk              float64\n",
       "area_bt kawade rd                float64\n",
       "area_dhanori                     float64\n",
       "area_hadapsar                    float64\n",
       "area_handewadi                   float64\n",
       "area_hinjewadi                   float64\n",
       "area_karvanagar                  float64\n",
       "area_kayani nagar                float64\n",
       "area_keshav nagar                float64\n",
       "area_kharadi                     float64\n",
       "area_kirkatwadi sinhagad road    float64\n",
       "area_kiwale                      float64\n",
       "area_koregaon park               float64\n",
       "area_koregoan                    float64\n",
       "area_lonavala                    float64\n",
       "area_magarpatta                  float64\n",
       "area_mahalunge                   float64\n",
       "area_manjri                      float64\n",
       "area_mohammadwadi                float64\n",
       "area_mundhwa                     float64\n",
       "area_nibm                        float64\n",
       "area_pisoli                      float64\n",
       "area_ravet                       float64\n",
       "area_susgaon                     float64\n",
       "area_talegoan                    float64\n",
       "area_tathawade                   float64\n",
       "area_undri                       float64\n",
       "area_vimannagar                  float64\n",
       "area_wadgaon sheri               float64\n",
       "dtype: object"
      ]
     },
     "execution_count": 285,
     "metadata": {},
     "output_type": "execute_result"
    }
   ],
   "source": [
    "df_selection.dtypes"
   ]
  },
  {
   "cell_type": "code",
   "execution_count": 286,
   "metadata": {},
   "outputs": [
    {
     "name": "stdout",
     "output_type": "stream",
     "text": [
      "(198, 36)\n",
      "(198,)\n"
     ]
    }
   ],
   "source": [
    "X = df_selection.drop(['Price in Millions'], axis=1)\n",
    "print(X.shape)\n",
    "\n",
    "Y = df_selection['Price in Millions']\n",
    "print(Y.shape)"
   ]
  },
  {
   "cell_type": "code",
   "execution_count": 287,
   "metadata": {},
   "outputs": [
    {
     "name": "stdout",
     "output_type": "stream",
     "text": [
      "(198, 1)\n"
     ]
    }
   ],
   "source": [
    "# reshape the array\n",
    "Y = Y.values.reshape((Y.shape[0], 1))\n",
    "print(Y.shape)"
   ]
  },
  {
   "cell_type": "code",
   "execution_count": 288,
   "metadata": {},
   "outputs": [
    {
     "name": "stdout",
     "output_type": "stream",
     "text": [
      "X_test: (36, 48)\n",
      "Y_test: (1, 48)\n",
      "X_train: (36, 150)\n",
      "Y_train: (1, 150)\n"
     ]
    }
   ],
   "source": [
    "# test data and shape\n",
    "X_test=X[150:].T  \n",
    "Y_test=Y[150:].T  \n",
    "print('X_test:', X_test.shape)\n",
    "print('Y_test:', Y_test.shape)\n",
    "\n",
    "#training data and shape\n",
    "X_train = X[:150].T\n",
    "Y_train = Y[:150].T\n",
    "print('X_train:', X_train.shape)\n",
    "print('Y_train:', Y_train.shape) "
   ]
  },
  {
   "cell_type": "code",
   "execution_count": 289,
   "metadata": {},
   "outputs": [
    {
     "name": "stdout",
     "output_type": "stream",
     "text": [
      "36\n",
      "[[-0.99434457  2.0072284   1.35653272 -0.92814989  0.42003609 -0.35250318\n",
      "  -1.42270621  1.54993963  2.63475296 -1.83804689  1.26920358  1.57560173\n",
      "   1.65548975  0.04500853  0.72983485 -1.26106663 -0.32667674  2.30731388\n",
      "   0.68513801 -0.26888386 -1.65314065  2.80570427 -0.59031933 -0.16951254\n",
      "  -0.59686708 -0.24429301  0.32467734  2.32906677 -2.39622644 -1.51867546\n",
      "   1.20263903 -0.71724434  0.48613281 -0.18110907 -0.47964626  2.88324591]]\n"
     ]
    }
   ],
   "source": [
    "n_in = X_train\n",
    "n_out = Y_train\n",
    "n = n_in.shape[0] # this equals to 36\n",
    "print(n)\n",
    "\n",
    "# calculate the standard deviation\n",
    "std = np.sqrt(2.0/n_out.shape[0])\n",
    "\n",
    "# calculate the radom weights\n",
    "W = np.random.randn(n_out.shape[0], n_in.shape[0]) * std\n",
    "print(W)"
   ]
  },
  {
   "cell_type": "code",
   "execution_count": 290,
   "metadata": {},
   "outputs": [],
   "source": [
    "# initialize the bias as zero\n",
    "b = np.zeros((n_out.shape[0], 1))"
   ]
  },
  {
   "cell_type": "code",
   "execution_count": 291,
   "metadata": {},
   "outputs": [
    {
     "data": {
      "text/plain": [
       "(1, 150)"
      ]
     },
     "execution_count": 291,
     "metadata": {},
     "output_type": "execute_result"
    }
   ],
   "source": [
    "# initialize the intermediate variable\n",
    "Z = np.dot(W, n_in) + b\n",
    "Z.shape"
   ]
  },
  {
   "cell_type": "code",
   "execution_count": 292,
   "metadata": {},
   "outputs": [],
   "source": [
    "# ReLu function\n",
    "Y_hat = np.maximum(0,Z)"
   ]
  },
  {
   "cell_type": "code",
   "execution_count": 293,
   "metadata": {},
   "outputs": [
    {
     "data": {
      "text/plain": [
       "150"
      ]
     },
     "execution_count": 293,
     "metadata": {},
     "output_type": "execute_result"
    }
   ],
   "source": [
    "Y_hat.shape[1]"
   ]
  },
  {
   "cell_type": "code",
   "execution_count": 294,
   "metadata": {},
   "outputs": [
    {
     "data": {
      "text/plain": [
       "(206.84668977978995, ())"
      ]
     },
     "execution_count": 294,
     "metadata": {},
     "output_type": "execute_result"
    }
   ],
   "source": [
    "Y = Y_train\n",
    "n = Y_hat.shape[1]\n",
    "\n",
    "# calculate the loss\n",
    "E = (1/n) * np.sum(np.square(Y_hat - Y))\n",
    "E,E.shape"
   ]
  },
  {
   "cell_type": "code",
   "execution_count": 295,
   "metadata": {},
   "outputs": [
    {
     "data": {
      "text/plain": [
       "(1, 150)"
      ]
     },
     "execution_count": 295,
     "metadata": {},
     "output_type": "execute_result"
    }
   ],
   "source": [
    "# derivative of the loss function\n",
    "dE = (2/n) * (Y_hat - Y)\n",
    "dE.shape"
   ]
  },
  {
   "cell_type": "code",
   "execution_count": 296,
   "metadata": {},
   "outputs": [
    {
     "data": {
      "text/plain": [
       "(1, 150)"
      ]
     },
     "execution_count": 296,
     "metadata": {},
     "output_type": "execute_result"
    }
   ],
   "source": [
    "# derivative of the ReLu function\n",
    "dY_hat = (Z > 0)\n",
    "dY_hat.shape"
   ]
  },
  {
   "cell_type": "code",
   "execution_count": 297,
   "metadata": {},
   "outputs": [
    {
     "data": {
      "text/plain": [
       "(36, 150)"
      ]
     },
     "execution_count": 297,
     "metadata": {},
     "output_type": "execute_result"
    }
   ],
   "source": [
    "# input data\n",
    "dZ = n_in\n",
    "dZ.shape"
   ]
  },
  {
   "cell_type": "code",
   "execution_count": 298,
   "metadata": {},
   "outputs": [
    {
     "data": {
      "text/plain": [
       "(array([[-1.32500940e+01, -2.30005532e+00, -4.85968665e+00,\n",
       "          0.00000000e+00, -1.83481299e-01,  0.00000000e+00,\n",
       "          0.00000000e+00,  0.00000000e+00, -1.10087675e+00,\n",
       "          0.00000000e+00, -1.98155226e-01, -4.29969202e-01,\n",
       "         -8.57851475e-01,  0.00000000e+00, -3.25780987e-01,\n",
       "          0.00000000e+00,  0.00000000e+00, -3.79243704e-03,\n",
       "         -3.08237697e-01,  0.00000000e+00,  0.00000000e+00,\n",
       "          0.00000000e+00,  0.00000000e+00, -1.36330403e-01,\n",
       "         -4.73106746e-02,  0.00000000e+00,  0.00000000e+00,\n",
       "         -1.42756281e+00,  0.00000000e+00,  0.00000000e+00,\n",
       "         -1.50841596e-01,  0.00000000e+00,  0.00000000e+00,\n",
       "          0.00000000e+00,  0.00000000e+00, -2.02607497e-01]]),\n",
       " (1, 36))"
      ]
     },
     "execution_count": 298,
     "metadata": {},
     "output_type": "execute_result"
    }
   ],
   "source": [
    "# calculate gradients of the loss function with respect to W\n",
    "dW = np.dot((dE * dY_hat), dZ.T)\n",
    "dW, dW.shape"
   ]
  },
  {
   "cell_type": "code",
   "execution_count": 299,
   "metadata": {},
   "outputs": [
    {
     "data": {
      "text/plain": [
       "(array([[ 0.33066483,  2.23723393,  1.84250138, -0.92814989,  0.43838422,\n",
       "         -0.35250318, -1.42270621,  1.54993963,  2.74484063, -1.83804689,\n",
       "          1.28901911,  1.61859865,  1.7412749 ,  0.04500853,  0.76241295,\n",
       "         -1.26106663, -0.32667674,  2.30769313,  0.71596178, -0.26888386,\n",
       "         -1.65314065,  2.80570427, -0.59031933, -0.1558795 , -0.59213602,\n",
       "         -0.24429301,  0.32467734,  2.47182305, -2.39622644, -1.51867546,\n",
       "          1.21772319, -0.71724434,  0.48613281, -0.18110907, -0.47964626,\n",
       "          2.90350666]]),\n",
       " (1, 36))"
      ]
     },
     "execution_count": 299,
     "metadata": {},
     "output_type": "execute_result"
    }
   ],
   "source": [
    "# define the learning rate\n",
    "alpha = 0.1\n",
    "\n",
    "# update the weights\n",
    "W = W - (alpha * dW)\n",
    "\n",
    "# see updated weights\n",
    "W, W.shape"
   ]
  },
  {
   "cell_type": "code",
   "execution_count": 300,
   "metadata": {},
   "outputs": [
    {
     "data": {
      "text/plain": [
       "(array([[0.53727981]]), (1, 1))"
      ]
     },
     "execution_count": 300,
     "metadata": {},
     "output_type": "execute_result"
    }
   ],
   "source": [
    "# derivative of the loss function with respect to b\n",
    "db = np.sum(dE * dY_hat, axis=1, keepdims=True)\n",
    "\n",
    "# update the bias\n",
    "b = b - (alpha * db)\n",
    "b, b.shape"
   ]
  },
  {
   "cell_type": "code",
   "execution_count": 301,
   "metadata": {},
   "outputs": [],
   "source": [
    "# define a variable to store the error calculated in each iteration\n",
    "error = []\n",
    "\n",
    "# set number of epochs\n",
    "epochs = 100 \n",
    "\n",
    "# iteration\n",
    "for i in range(epochs):\n",
    "\n",
    "    # initialize the intermediate variable\n",
    "    Z = np.dot(W, n_in) + b\n",
    "    \n",
    "    # forward-propagation\n",
    "    # ReLU activation\n",
    "    Y_hat = np.maximum(0,Z) \n",
    "    \n",
    "    # define the sample size 'n'\n",
    "    # note that the true value 'Y' is already defined in the above calculation - no need to define it again.\n",
    "    n = Y_hat.shape[1] \n",
    "     \n",
    "    # calculate the mean squared error or loss function\n",
    "    E = (1 / n) * np.sum(np.square(Y_hat - Y))\n",
    "\n",
    "    # backward-propagation\n",
    "    # derivative of the loss function\n",
    "    dE = (2 / n) * (Y_hat - Y) \n",
    "    \n",
    "    # derivative of Relu Activation function\n",
    "    dY_hat = (Z > 0)\n",
    "\n",
    "    # input data \n",
    "    dZ = n_in  \n",
    "\n",
    "    # derivative of loss function with respect to weights\n",
    "    dW = np.dot((dE * dY_hat),dZ.T)\n",
    "    \n",
    "    # derivative of loss function with respect to bias\n",
    "    db = np.sum((dE * dY_hat), axis = 1, keepdims = True)\n",
    "    \n",
    "    # update weights\n",
    "    W = W - (dW * alpha)\n",
    "    \n",
    "    # update bias\n",
    "    b = b - (db * alpha) \n",
    "\n",
    "    # error\n",
    "    error.append(E)"
   ]
  },
  {
   "cell_type": "code",
   "execution_count": 302,
   "metadata": {},
   "outputs": [
    {
     "data": {
      "image/png": "[encoded data removed]",
      "text/plain": [
       "<Figure size 640x480 with 1 Axes>"
      ]
     },
     "metadata": {},
     "output_type": "display_data"
    }
   ],
   "source": [
    "# plot the error\n",
    "plt.ylabel('Error')\n",
    "plt.xlabel('Epochs')\n",
    "plt.title(\"Learning Rate = \" + str(alpha))\n",
    "plt.plot(np.squeeze(error))\n",
    "plt.show()"
   ]
  },
  {
   "cell_type": "code",
   "execution_count": 303,
   "metadata": {},
   "outputs": [],
   "source": [
    "# let's now push our test set through the neural network with our learned weights and bias \n",
    "Z_predict = np.dot(W, X_test) + b  \n",
    "\n",
    "# activation function\n",
    "Y_hat_predict=np.maximum(0,Z_predict)\n",
    "\n",
    "# define the size\n",
    "n = X_test.shape[1]  \n",
    "\n",
    "# error prediction\n",
    "E_predict = (1 / n) * np.sum(np.square(Y_hat_predict - Y_test))"
   ]
  },
  {
   "cell_type": "code",
   "execution_count": 304,
   "metadata": {},
   "outputs": [
    {
     "data": {
      "text/plain": [
       "22.725519008352226"
      ]
     },
     "execution_count": 304,
     "metadata": {},
     "output_type": "execute_result"
    }
   ],
   "source": [
    "# updated error\n",
    "E_predict"
   ]
  },
  {
   "cell_type": "code",
   "execution_count": 305,
   "metadata": {},
   "outputs": [
    {
     "data": {
      "image/png": "[encoded data removed]",
      "text/plain": [
       "<Figure size 640x480 with 1 Axes>"
      ]
     },
     "metadata": {},
     "output_type": "display_data"
    }
   ],
   "source": [
    "# plot the predicted values vs. the actual values\n",
    "plt.ylabel('Price in Millions')\n",
    "plt.xlabel('Sample')\n",
    "plt.title(\"Predicted vs. Actual\")\n",
    "plt.plot(np.squeeze(Y_hat_predict),label = \"Predicted\")\n",
    "plt.plot(np.squeeze(Y_test), label = \"Actual\")\n",
    "plt.legend()\n",
    "plt.show()"
   ]
  },
  {
   "cell_type": "code",
   "execution_count": null,
   "metadata": {},
   "outputs": [],
   "source": []
  }
 ],
 "metadata": {
  "kernelspec": {
   "display_name": "ML",
   "language": "python",
   "name": "python3"
  },
  "language_info": {
   "codemirror_mode": {
    "name": "ipython",
    "version": 3
   },
   "file_extension": ".py",
   "mimetype": "text/x-python",
   "name": "python",
   "nbconvert_exporter": "python",
   "pygments_lexer": "ipython3",
   "version": "3.11.5"
  }
 },
 "nbformat": 4,
 "nbformat_minor": 2
}
